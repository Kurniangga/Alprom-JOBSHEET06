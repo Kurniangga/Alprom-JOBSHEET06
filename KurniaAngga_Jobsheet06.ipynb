{
  "nbformat": 4,
  "nbformat_minor": 0,
  "metadata": {
    "colab": {
      "provenance": [],
      "authorship_tag": "ABX9TyPWXOd8FG9ahelsTCOuDJQf",
      "include_colab_link": true
    },
    "kernelspec": {
      "name": "python3",
      "display_name": "Python 3"
    },
    "language_info": {
      "name": "python"
    }
  },
  "cells": [
    {
      "cell_type": "markdown",
      "metadata": {
        "id": "view-in-github",
        "colab_type": "text"
      },
      "source": [
        "<a href=\"https://colab.research.google.com/github/Kurniangga/Alprom-JOBSHEET06/blob/main/KurniaAngga_Jobsheet06.ipynb\" target=\"_parent\"><img src=\"https://colab.research.google.com/assets/colab-badge.svg\" alt=\"Open In Colab\"/></a>"
      ]
    },
    {
      "cell_type": "markdown",
      "source": [
        "Praktikum 01 - Membuat dan Mengakses List 1D"
      ],
      "metadata": {
        "id": "dZyauvKvBrNr"
      }
    },
    {
      "cell_type": "code",
      "execution_count": null,
      "metadata": {
        "colab": {
          "base_uri": "https://localhost:8080/"
        },
        "id": "O3FefC08BT8k",
        "outputId": "39514836-3e6a-41e7-b007-a88e40bca9bc"
      },
      "outputs": [
        {
          "output_type": "stream",
          "name": "stdout",
          "text": [
            "Andi\n",
            "Budi\n",
            "Cici\n"
          ]
        }
      ],
      "source": [
        "mahasiswa = [\"Andi\", \"Budi\", \"Cici\"]\n",
        "print(mahasiswa[0])\n",
        "print(mahasiswa[1])\n",
        "print(mahasiswa[-1])"
      ]
    },
    {
      "cell_type": "markdown",
      "source": [
        "Praktikum 02 - Update dan Operasi Dasar List"
      ],
      "metadata": {
        "id": "Xx4CeL7zC5R0"
      }
    },
    {
      "cell_type": "code",
      "source": [
        "nilai = [85, 90, 78]\n",
        "nilai [1] = 95\n",
        "nilai.append (100)\n",
        "nilai.remove (78)\n",
        "print(nilai)"
      ],
      "metadata": {
        "colab": {
          "base_uri": "https://localhost:8080/"
        },
        "id": "Cw6chK_1DA6E",
        "outputId": "945e23f4-429e-4ef2-8423-ed9287fe11b6"
      },
      "execution_count": null,
      "outputs": [
        {
          "output_type": "stream",
          "name": "stdout",
          "text": [
            "[85, 95, 100]\n"
          ]
        }
      ]
    },
    {
      "cell_type": "markdown",
      "source": [
        "Praktikum 03 - Slicing List"
      ],
      "metadata": {
        "id": "tGT-7YwiFPf9"
      }
    },
    {
      "cell_type": "code",
      "source": [
        "nilai = [85, 90, 78, 92, 88]\n",
        "print (nilai[0:3])\n",
        "print (nilai[2:])\n",
        "print (nilai[:3])\n"
      ],
      "metadata": {
        "colab": {
          "base_uri": "https://localhost:8080/"
        },
        "id": "bOx6c1ZSFUsm",
        "outputId": "145094e7-a105-4976-da27-19b2b89a106c"
      },
      "execution_count": null,
      "outputs": [
        {
          "output_type": "stream",
          "name": "stdout",
          "text": [
            "[85, 90, 78]\n",
            "[78, 92, 88]\n",
            "[85, 90, 78]\n"
          ]
        }
      ]
    },
    {
      "cell_type": "markdown",
      "source": [
        "Praktikum 04 - List 2D (Matriks)"
      ],
      "metadata": {
        "id": "3WrIWRu7Ijnh"
      }
    },
    {
      "cell_type": "code",
      "source": [
        "matriks = [\n",
        "    [1, 2, 3],\n",
        "    [4, 5, 6],\n",
        "    [7, 8, 9]\n",
        "]\n",
        "\n",
        "print (matriks[0][0])\n",
        "print (matriks[1][2])\n",
        "print (matriks[2])\n",
        "\n"
      ],
      "metadata": {
        "colab": {
          "base_uri": "https://localhost:8080/"
        },
        "id": "wXAFRVfnIp7u",
        "outputId": "c0a70544-f004-49ae-a68b-2d72ff2ad231"
      },
      "execution_count": null,
      "outputs": [
        {
          "output_type": "stream",
          "name": "stdout",
          "text": [
            "1\n",
            "6\n",
            "[7, 8, 9]\n"
          ]
        }
      ]
    },
    {
      "cell_type": "markdown",
      "source": [
        "Praktikum 05 - Operasi pada List 2D"
      ],
      "metadata": {
        "id": "OpzpOP2bJxZk"
      }
    },
    {
      "cell_type": "code",
      "source": [
        "A = [[1, 2, 3], [4, 5, 6]]\n",
        "B = [[7, 8, 9], [10, 11, 12]]\n",
        "C = []\n",
        "\n",
        "for i in range(len(A)):\n",
        "  baris = []\n",
        "  for j in range(len(A[0])):\n",
        "    baris.append (A[i][j] + B[i][j])\n",
        "  C.append(baris)\n",
        "  print(C)"
      ],
      "metadata": {
        "colab": {
          "base_uri": "https://localhost:8080/"
        },
        "id": "Ky9ZR5SdLnbe",
        "outputId": "f31cc8be-2766-4a54-9447-851985cbf9a2"
      },
      "execution_count": null,
      "outputs": [
        {
          "output_type": "stream",
          "name": "stdout",
          "text": [
            "[[8, 10, 12]]\n",
            "[[8, 10, 12], [14, 16, 18]]\n"
          ]
        }
      ]
    },
    {
      "cell_type": "markdown",
      "source": [
        "Praktikum 06 - Studi Kasus: Pengelolaan Nilai Mahasiswa"
      ],
      "metadata": {
        "id": "loVPC6qVNP6N"
      }
    },
    {
      "cell_type": "code",
      "source": [
        "nilai = [\n",
        " [80, 90, 85],\n",
        " [70, 75, 80],\n",
        " [88, 92, 84]\n",
        "]\n",
        "\n",
        "for i, baris in enumerate(nilai, start=1):\n",
        " rata = sum(baris) / len(baris)\n",
        " print(f\"Rata-rata mahasiswa {i}: {rata:.2f}\")"
      ],
      "metadata": {
        "colab": {
          "base_uri": "https://localhost:8080/"
        },
        "id": "87UtpGWxNijV",
        "outputId": "e3499dfe-64a3-49b9-f836-becf800fd945"
      },
      "execution_count": null,
      "outputs": [
        {
          "output_type": "stream",
          "name": "stdout",
          "text": [
            "Rata-rata mahasiswa 1: 85.00\n",
            "Rata-rata mahasiswa 2: 75.00\n",
            "Rata-rata mahasiswa 3: 88.00\n"
          ]
        }
      ]
    },
    {
      "cell_type": "markdown",
      "source": [
        "Penugasan Nomor 3 - Akses Elemen List"
      ],
      "metadata": {
        "id": "EkpvY2QlNIGQ"
      }
    },
    {
      "cell_type": "code",
      "source": [
        "Nama = [\"Angga\", \"Dimas\", \"Annisa\", \"Kurnia\", \"Kanza\"]\n",
        "print(Nama[0])\n",
        "print(Nama[-1])\n",
        "print(Nama[1])"
      ],
      "metadata": {
        "colab": {
          "base_uri": "https://localhost:8080/"
        },
        "id": "gq1Nxqf_NK79",
        "outputId": "3ee630dd-9898-45d1-c26e-d419023afa84"
      },
      "execution_count": null,
      "outputs": [
        {
          "output_type": "stream",
          "name": "stdout",
          "text": [
            "Angga\n",
            "Kanza\n",
            "Dimas\n"
          ]
        }
      ]
    },
    {
      "cell_type": "markdown",
      "source": [
        "Penugasan Nomor 4 - Operasi Dasar List"
      ],
      "metadata": {
        "id": "i3BVz9GYRv1A"
      }
    },
    {
      "cell_type": "code",
      "source": [
        "nilai = [70, 75, 80]\n",
        "\n",
        "nilai[2] = 85\n",
        "nilai.append(90)\n",
        "nilai.remove(70)\n",
        "\n",
        "print(nilai)"
      ],
      "metadata": {
        "colab": {
          "base_uri": "https://localhost:8080/"
        },
        "id": "2LlN7rssR36M",
        "outputId": "b0ae1ba9-8a4e-4865-84fc-dd2201c4569c"
      },
      "execution_count": null,
      "outputs": [
        {
          "output_type": "stream",
          "name": "stdout",
          "text": [
            "[75, 85, 90]\n"
          ]
        }
      ]
    },
    {
      "cell_type": "markdown",
      "source": [
        "Penugasan Nomor 5 - Slicing List"
      ],
      "metadata": {
        "id": "L1gI7pLiUGnv"
      }
    },
    {
      "cell_type": "code",
      "source": [
        "nilai = list(range(1, 11))\n",
        "\n",
        "print(nilai[0:3])\n",
        "print(nilai[6:])\n",
        "print(nilai[1::2])"
      ],
      "metadata": {
        "colab": {
          "base_uri": "https://localhost:8080/"
        },
        "id": "0xcSKwR5UMwA",
        "outputId": "99fd1a9f-df1a-478f-b5d0-233bf4230c08"
      },
      "execution_count": null,
      "outputs": [
        {
          "output_type": "stream",
          "name": "stdout",
          "text": [
            "[1, 2, 3]\n",
            "[7, 8, 9, 10]\n",
            "[2, 4, 6, 8, 10]\n"
          ]
        }
      ]
    },
    {
      "cell_type": "markdown",
      "source": [
        "Penugasan Nomor 6 - List 2D - Matriks"
      ],
      "metadata": {
        "id": "ec_VstEjX9mH"
      }
    },
    {
      "cell_type": "code",
      "source": [
        "matriks = [\n",
        "    [1, 2],\n",
        "    [3, 4],\n",
        "    [5, 6]\n",
        "]\n",
        "\n",
        "print (matriks[0][1])\n",
        "print (matriks[0])\n",
        "print (matriks[1][1])"
      ],
      "metadata": {
        "colab": {
          "base_uri": "https://localhost:8080/"
        },
        "id": "msYUk810YFJ7",
        "outputId": "46145a8c-a416-4227-b6b2-41aaa1008dc1"
      },
      "execution_count": null,
      "outputs": [
        {
          "output_type": "stream",
          "name": "stdout",
          "text": [
            "2\n",
            "[1, 2]\n",
            "4\n"
          ]
        }
      ]
    },
    {
      "cell_type": "markdown",
      "source": [
        "Penugasan Nomor 7 - Operasi Matriks 2D"
      ],
      "metadata": {
        "id": "vrlNVG5Gav4y"
      }
    },
    {
      "cell_type": "code",
      "source": [
        "matriks_A = [[5, 2],\n",
        "             [3, 1]]\n",
        "\n",
        "matriks_B = [[1, 7],\n",
        "             [4, 8]]\n",
        "\n",
        "hasil = [[0, 0],\n",
        "          [0, 0]]\n",
        "\n",
        "for i in range(len(matriks_A)):\n",
        "    for j in range(len(matriks_A[0])):\n",
        "        hasil[i][j] = matriks_A[i][j] + matriks_B[i][j]\n",
        "\n",
        "print(\"Matriks A:\")\n",
        "for baris in matriks_A:\n",
        "    print(baris)\n",
        "\n",
        "print(\"\\nMatriks B:\")\n",
        "for baris in matriks_B:\n",
        "    print(baris)\n",
        "\n",
        "print(\"\\nHasil Penjumlahan (A + B):\")\n",
        "for baris in hasil:\n",
        "    print(baris)"
      ],
      "metadata": {
        "colab": {
          "base_uri": "https://localhost:8080/"
        },
        "id": "3wij0EdwbhJ_",
        "outputId": "b4ac9787-91b5-41fd-a49d-ef41be4dee22"
      },
      "execution_count": null,
      "outputs": [
        {
          "output_type": "stream",
          "name": "stdout",
          "text": [
            "Matriks A:\n",
            "[5, 2]\n",
            "[3, 1]\n",
            "\n",
            "Matriks B:\n",
            "[1, 7]\n",
            "[4, 8]\n",
            "\n",
            "Hasil Penjumlahan (A + B):\n",
            "[6, 9]\n",
            "[7, 9]\n"
          ]
        }
      ]
    },
    {
      "cell_type": "markdown",
      "source": [
        "Penugasan Nomor 8 - Rata-rata Mahasiswa"
      ],
      "metadata": {
        "id": "PbDmIFFdnA5k"
      }
    },
    {
      "cell_type": "code",
      "source": [
        "nilai = [\n",
        "    [75, 80, 85],\n",
        "    [60, 70, 65],\n",
        "    [90, 95, 92]\n",
        "]\n",
        "\n",
        "for i, baris in enumerate(nilai, start=1):\n",
        "  rata = sum(baris) / len(baris)\n",
        "  print(f\"Rata-rata mahasiswa {i} : {rata: .2f}\")"
      ],
      "metadata": {
        "colab": {
          "base_uri": "https://localhost:8080/"
        },
        "id": "r1bncPt9nG08",
        "outputId": "a9fd9242-6ad0-4e3f-cad5-8423492f933d"
      },
      "execution_count": null,
      "outputs": [
        {
          "output_type": "stream",
          "name": "stdout",
          "text": [
            "Rata-rata mahasiswa 1 :  80.00\n",
            "Rata-rata mahasiswa 2 :  65.00\n",
            "Rata-rata mahasiswa 3 :  92.33\n"
          ]
        }
      ]
    },
    {
      "cell_type": "markdown",
      "source": [
        "Penugasan Nommor 9 - Data Toko"
      ],
      "metadata": {
        "id": "HYIBfp71p09O"
      }
    },
    {
      "cell_type": "code",
      "source": [
        "stok = [[\"Buku\", 20],\n",
        "        [\"Pulpen\", 35],\n",
        "        [\"Penghapus\", 15]]\n",
        "\n",
        "print(\"Daftar Stok Barang Saat Ini: \")\n",
        "\n",
        "barang_terbanyak = stok[0][0]\n",
        "stok_terbanyak = stok[0][1]\n",
        "\n",
        "for barang in stok:\n",
        "    nama_barang = barang[0]\n",
        "    jumlah_stok = barang[1]\n",
        "\n",
        "    print(f\"- {nama_barang}: {jumlah_stok} unit\")\n",
        "\n",
        "    if jumlah_stok > stok_terbanyak:\n",
        "        stok_terbanyak = jumlah_stok\n",
        "        barang_terbanyak = nama_barang\n",
        "\n",
        "\n",
        "print(\"\\n\" + \"---\" * 10)\n",
        "print(\"Barang dengan Stok Terbanyak:\")\n",
        "print(f\"Nama Barang: {barang_terbanyak}\")\n",
        "print(f\"Jumlah Stok: {stok_terbanyak} unit\")"
      ],
      "metadata": {
        "colab": {
          "base_uri": "https://localhost:8080/"
        },
        "id": "0gjqWZkXp6sj",
        "outputId": "ef8fcfc7-337d-448f-9d4d-37ad5c77521d"
      },
      "execution_count": null,
      "outputs": [
        {
          "output_type": "stream",
          "name": "stdout",
          "text": [
            "Daftar Stok Barang Saat Ini: \n",
            "- Buku: 20 unit\n",
            "- Pulpen: 35 unit\n",
            "- Penghapus: 15 unit\n",
            "\n",
            "------------------------------\n",
            "Barang dengan Stok Terbanyak:\n",
            "Nama Barang: Pulpen\n",
            "Jumlah Stok: 35 unit\n"
          ]
        }
      ]
    }
  ]
}